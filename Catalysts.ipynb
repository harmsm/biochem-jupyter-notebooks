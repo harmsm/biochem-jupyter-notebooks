{
 "cells": [
  {
   "cell_type": "markdown",
   "metadata": {},
   "source": [
    "## Simulate a reaction using the Arrhenius equation"
   ]
  },
  {
   "cell_type": "markdown",
   "metadata": {},
   "source": [
    "The following simulates the unimolecular conversion of substrate $S$ into product $P$:\n",
    "\n",
    "$$S \\rightleftarrows P$$\n",
    "\n",
    "The conversion rate is given by an Arrhenius relationship, depending on the barrier height $E_{a}$, a prefactor roughly corresponding to collision rate $A$, and $RT$. \n",
    "\n",
    "$$k = A \\cdot e^{(-E_{a}/RT)}$$\n",
    "\n",
    "The concentration of product as a function of time is given by another exponential and depends on the rate $k$ determined above and the initial concentration of substrate $[S]_{0}$:\n",
    "\n",
    "$$[P](t) = [S]_{0}\\cdot (1 - e^{-kt})$$\n",
    "\n",
    "NOTE: This analysis assumes we are in an \"infinite enzyme\" regime.  The physical underpinnings of enzymes remain the same when we have less enzyme, but the kinetics are more complex to analyze -- as we'll see when we get to Michaelis-Menten kinetics.\n"
   ]
  },
  {
   "cell_type": "code",
   "execution_count": 1,
   "metadata": {
    "jupyter": {
     "source_hidden": true
    }
   },
   "outputs": [],
   "source": [
    "#Import libraries that do things like plot data and handle arrays\n",
    "%matplotlib inline\n",
    "from matplotlib import pyplot as plt\n",
    "import matplotlib.patches as patches\n",
    "import numpy as np\n",
    "\n",
    "# libraries for making pretty sliders\n",
    "from ipywidgets import interact, interactive, fixed, interact_manual\n",
    "import ipywidgets as widgets\n",
    "from IPython.display import display\n"
   ]
  },
  {
   "cell_type": "code",
   "execution_count": 2,
   "metadata": {
    "jupyter": {
     "source_hidden": true
    }
   },
   "outputs": [
    {
     "data": {
      "application/vnd.jupyter.widget-view+json": {
       "model_id": "ea106b444c3c40eba3b6c834f88bfc05",
       "version_major": 2,
       "version_minor": 0
      },
      "text/plain": [
       "interactive(children=(FloatSlider(value=12.5, description='Ea', max=25.0), FloatSlider(value=5.0, description=…"
      ]
     },
     "metadata": {},
     "output_type": "display_data"
    }
   ],
   "source": [
    "def arrhenius(t,S0,A,Ea,T):\n",
    "    \"\"\"\n",
    "    The arrhenius equation. \n",
    "    \"\"\"\n",
    "    \n",
    "    k = A*np.exp(-Ea/(0.0083*T))\n",
    "    \n",
    "    return S0*(1-np.exp(-k*t))\n",
    "    \n",
    "\n",
    "def plot_arrhenius(Ea,A):\n",
    "    \"\"\"\n",
    "    Create a pretty plot of an arrhenius plot.\n",
    "    \"\"\"\n",
    "        \n",
    "    S0 = 1\n",
    "    R = 0.0083\n",
    "    T = 300\n",
    "    t_max = 10000\n",
    "    \n",
    "    fig, ax = plt.subplots(1,2)\n",
    "    \n",
    "    # Plot reaction coordinate\n",
    "    x = np.array(range(6))\n",
    "    y = np.array([0,0,Ea,Ea,-10,-10],dtype=float)\n",
    "    ax[0].plot(x,y,color=\"black\",linewidth=3)\n",
    "    \n",
    "    # Make plot pretty\n",
    "    ax[0].set_xlabel(\"reaction coordinate\")\n",
    "    ax[0].set_ylabel(\"free energy\")\n",
    "    ax[0].set_title(\"change in population\")\n",
    "    ax[0].get_xaxis().set_ticks([])\n",
    "    ax[0].set_ylim([-15,35])\n",
    "    \n",
    "    # plot relative populations\n",
    "    RT = R*T\n",
    "    Q = 1 + np.exp(-Ea/RT)\n",
    "    \n",
    "    v0 = 15/Q\n",
    "    ax[0].add_patch(\n",
    "        patches.Rectangle((0,-v0/2),1,v0,facecolor=\"lightblue\")\n",
    "    )\n",
    "    \n",
    "    v1 = 15*np.exp(-Ea/RT)/Q\n",
    "    ax[0].add_patch(\n",
    "        patches.Rectangle((2,Ea-v1/2),1,v1,facecolor=\"lightblue\")\n",
    "    )\n",
    "    \n",
    "    #### RATE PLOT\n",
    "\n",
    "    # Plot main P vs. curve\n",
    "    smooth_x = np.array(range(0,t_max,100),dtype=float)*0.01\n",
    "    smooth_y = arrhenius(smooth_x,S0,A,Ea,T)    \n",
    "    ax[1].plot(smooth_x,smooth_y,color=\"black\")\n",
    "    \n",
    "    # draw initial rate line\n",
    "    m = (smooth_y[1]-smooth_y[0])/(smooth_x[1]-smooth_x[0])\n",
    "    b = smooth_y[0]-(m*smooth_x[0])\n",
    "    this_x = np.array((0,t_max))\n",
    "    ax[1].plot(this_x,this_x*m+b,\"--\",color=\"gray\")\n",
    "    \n",
    "    # set plot dimensions\n",
    "    ax[1].set_xlim([0,t_max*0.01])\n",
    "    ax[1].set_ylim([0,1.1])\n",
    "    \n",
    "    # axis labels\n",
    "    ax[1].set_xlabel(\"time\")\n",
    "    ax[1].set_ylabel(\"[product]\")\n",
    "    ax[1].set_title(\"reaction kinetics\")\n",
    "    \n",
    "    # Global formatting\n",
    "    fig.set_figwidth(10)\n",
    "    fig.tight_layout()\n",
    "    plt.show()\n",
    "        \n",
    "\n",
    "# graph for running display\n",
    "A_slider = widgets.FloatSlider(min=0,max=100,step=5,value=5)\n",
    "Ea_slider = widgets.FloatSlider(min=0,max=25,by=2.5,value=12.5)\n",
    "\n",
    "w = widgets.interactive(plot_arrhenius,A=A_slider,Ea=Ea_slider)\n",
    "                        \n",
    "display(w)\n"
   ]
  },
  {
   "cell_type": "markdown",
   "metadata": {},
   "source": [
    "The blue boxes on the free energy diagram denote the relative populations of $S$ and the transition state $S^{*}$ at $t = 0$."
   ]
  }
 ],
 "metadata": {
  "kernelspec": {
   "display_name": "Python 3",
   "language": "python",
   "name": "python3"
  },
  "language_info": {
   "codemirror_mode": {
    "name": "ipython",
    "version": 3
   },
   "file_extension": ".py",
   "mimetype": "text/x-python",
   "name": "python",
   "nbconvert_exporter": "python",
   "pygments_lexer": "ipython3",
   "version": "3.7.3"
  }
 },
 "nbformat": 4,
 "nbformat_minor": 4
}
