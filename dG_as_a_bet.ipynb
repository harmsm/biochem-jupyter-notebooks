{
 "cells": [
  {
   "cell_type": "markdown",
   "metadata": {
    "id": "TAjcsTRDArId"
   },
   "source": [
    "# $\\Delta G$ as a bet\n",
    "\n",
    "Objectives of this notebook:\n",
    "\n",
    "+ Develop statisical intuition for the meanings of $G$, $H$, and $S$. \n",
    "+ Understand the meaning of $\\Delta G^{\\circ \\prime}$\n",
    "+ Learn how to think about $\\Delta G$ as a bet.\n",
    "\n",
    "\n",
    "As a model for this, we are going to use a simple toy reaction (below). Imagine a table with dice on it. \n",
    "\n",
    "<div><center><img width=\"70%\" src=\"https://github.com/harmsm/biochem-jupyter-notebooks/raw/master/dice/dice-folding-reaction.png\") /></center></div>\n",
    "\n",
    "<br/>\n",
    "\n",
    "To get started, run the cell below."
   ]
  },
  {
   "cell_type": "code",
   "execution_count": null,
   "metadata": {
    "cellView": "form",
    "colab": {
     "base_uri": "https://localhost:8080/"
    },
    "id": "sG5Z-aLD6n71",
    "outputId": "d45d88e1-9398-4f30-ac60-850623b8ed0c"
   },
   "outputs": [],
   "source": [
    "#@title Set up calculation\n",
    "\n",
    "#@markdown This cell configures the environment for the following calculations.\n",
    "#@markdown Run it before doing any of the work below.\n",
    "\n",
    "#@markdown To run the cell, click the \"Play\" button to the left or hit `[Shift]+[Enter]`.\n",
    "\n",
    "#@markdown If desired, you can run this in a notebook in a folder on your google drive. This is a \n",
    "#@markdown convenient way to pass files in and out of the analysis. It will \n",
    "#@markdown also allow you to save your work. If you put `biophysics` into the form\n",
    "#@markdown field below, the analyis will save all of its calculations in the \n",
    "#@markdown `biophysics` directory in MyDrive (i.e. the top directory at\n",
    "#@markdown https://drive.google.com). This script will create the directory if \n",
    "#@markdown it does not already exist. If the directory already exists, any files\n",
    "#@markdown that are already in that directory will be available for the analysis. \n",
    "#@markdown You could, for example, put a file called data.csv in the biophysics\n",
    "#@markdown directory and then access it as data.csv in all cells below.\n",
    "#@markdown Google may prompt you for permission to access the drive. \n",
    "#@markdown <br/><br/>\n",
    "#@markdown To work in a temporary environment, leave this blank. Your results\n",
    "#@markdown will disappear when you leave the website.\n",
    "\n",
    "try:\n",
    "    import google.colab\n",
    "    RUNNING_IN_COLAB = True\n",
    "except ImportError:\n",
    "    RUNNING_IN_COLAB = False\n",
    "except Exception as e: \n",
    "    err = \"Could not figure out if runnning in a colab notebook\\n\"\n",
    "    raise Exception(err) from e\n",
    "\n",
    "# ------------------------------------------------------------------------------\n",
    "# Imports\n",
    "\n",
    "if RUNNING_IN_COLAB:\n",
    "    %pip install -q ipywidgets\n",
    "\n",
    "%matplotlib inline\n",
    "from matplotlib import pyplot as plt\n",
    "import numpy as np\n",
    "import pandas as pd\n",
    "import scipy\n",
    "\n",
    "# from ipywidgets import interact, interactive, fixed, interact_manual\n",
    "# import ipywidgets as widgets\n",
    "# from IPython.display import display\n",
    "\n",
    "import os\n",
    "\n",
    "# ------------------------------------------------------------------------------\n",
    "# Environment\n",
    "\n",
    "if RUNNING_IN_COLAB:\n",
    "    \n",
    "    working_dir = \"/content/\"\n",
    "\n",
    "    # Select a working directory on google drive\n",
    "    google_drive_directory = \"\" #@param {type:\"string\"}\n",
    "    google_drive_directory = google_drive_directory.strip()\n",
    "\n",
    "    # Set up google drive\n",
    "    if google_drive_directory != \"\":\n",
    "\n",
    "        from google.colab import drive\n",
    "        drive.mount('/content/gdrive/')\n",
    "\n",
    "        working_dir = f\"/content/gdrive/MyDrive/{google_drive_directory}\"\n",
    "        os.system(f\"mkdir -p {working_dir}\")\n",
    "\n",
    "    os.chdir(working_dir)\n",
    "    print(f\"Working directory: {os.getcwd()}/\")\n",
    "\n",
    "    print(\"\\nCurrent directory contents:\")\n",
    "    print(os.getcwd())\n",
    "    for f in os.listdir(\".\"):\n",
    "        print(f\"    {f}\")\n",
    "    print()\n",
    "    \n",
    "\n",
    "# ------------------------------------------------------------------------------\n",
    "# Default graph label sizing\n",
    "\n",
    "SMALL_SIZE = 14\n",
    "MEDIUM_SIZE = 16\n",
    "BIGGER_SIZE = 18\n",
    "\n",
    "plt.rc('font', size=SMALL_SIZE)          # controls default text sizes\n",
    "plt.rc('axes', titlesize=SMALL_SIZE)     # fontsize of the axes title\n",
    "plt.rc('axes', labelsize=MEDIUM_SIZE)    # fontsize of the x and y labels\n",
    "plt.rc('xtick', labelsize=SMALL_SIZE)    # fontsize of the tick labels\n",
    "plt.rc('ytick', labelsize=SMALL_SIZE)    # fontsize of the tick labels\n",
    "plt.rc('legend', fontsize=SMALL_SIZE)    # legend fontsize\n",
    "plt.rc('figure', titlesize=BIGGER_SIZE)  # fontsize of the figure title\n",
    "\n",
    "# For coloring output text\n",
    "COL_END = '\\033[0m'\n",
    "COL_RED = '\\033[91m'\n",
    "COL_BLUE = '\\033[94m'\n",
    "\n",
    "# ------------------------------------------------------------------------------\n",
    "# Notebook specific function definitions\n",
    "\n",
    "from scipy.special import comb\n",
    "\n",
    "def run_sim(num_dice,\n",
    "            p_six=1/6,\n",
    "            num_starting_six=None,\n",
    "            num_steps=None,\n",
    "            alpha=0.01,\n",
    "            plot=False):\n",
    "    \"\"\"\n",
    "    Run a dice simulation.\n",
    "    \n",
    "    Parameters\n",
    "    ----------\n",
    "    num_dice : int\n",
    "        number of dice in the simulation (must be > 0)\n",
    "    p_six : float\n",
    "        probability of rolling a six (must be between 0 and 1)\n",
    "    num_starting_six : int, optional\n",
    "        number of six to start with. if None, select randomly. If defined, must\n",
    "        be between 0 and num_dice\n",
    "    num_steps : int, optional\n",
    "        number of steps of the simulatino to run. if None, set to 1.5x the \n",
    "        expected time to converge\n",
    "    alpha : float, defualt=0.01\n",
    "        pick up this fraction of the dice and roll them each step. must be \n",
    "        between 0 and 1. (If alpha*num_dice is less than one, set the number\n",
    "        to roll to one and recalcualte alpha as 1/num_dice). \n",
    "    plot : bool, default=False\n",
    "        whether or not to generate a plot\n",
    "        \n",
    "    Returns\n",
    "    -------\n",
    "    steps : np.array\n",
    "        array of step times \n",
    "    rate_law : np.array\n",
    "        rate law calculation for the number of sixes\n",
    "    dice_history : np.array\n",
    "        history of the number of sixes \n",
    "    \"\"\"\n",
    "    \n",
    "    \n",
    "    # Figre out the number of steps to run if not specified\n",
    "    if num_steps is None:\n",
    "        \n",
    "        # Biggest diff is the largest difference between the \n",
    "        # start and equilibrium that could be observed\n",
    "        biggest_diff = num_dice\n",
    "            \n",
    "        # Figure out how may dice we roll at once\n",
    "        roll_amount = alpha*num_dice\n",
    "        if roll_amount < 1:\n",
    "            roll_amount = 1\n",
    "            \n",
    "        # Expected time required to equilibrate\n",
    "        if p_six > 0.125 or p_six == 0:\n",
    "            roll_scalar = 0.125\n",
    "        else:\n",
    "            roll_scalar = p_six\n",
    "        expected_time = biggest_diff/(roll_amount*roll_scalar)\n",
    "\n",
    "        # Number of steps is 1.5*expected_time\n",
    "        num_steps = int(np.around(expected_time*1.5,0))\n",
    "    \n",
    "    # Make sure number of steps and number of dice are sane\n",
    "    if num_dice < 1 or num_steps < 1:\n",
    "        err = \"num_dice and num_steps must be integers > 0\\n\"\n",
    "        raise ValueError(err)\n",
    "    \n",
    "    # If num_starting_six is specified, make sure it is sane\n",
    "    if num_starting_six is not None:\n",
    "        if num_starting_six < 0:\n",
    "            err = \"num_starting_six must be None or >= 0\\n\"\n",
    "            raise ValueError(err)\n",
    "    \n",
    "        if num_dice < num_starting_six:\n",
    "            err = \"num_starting_six must be <= num_dice\\n\"\n",
    "            raise ValueError(err)\n",
    "        \n",
    "    # Make sure alpha is sane\n",
    "    if alpha < 0 or alpha > 1: \n",
    "        err = \"alpha must be between 0 and 1\\n\"\n",
    "        raise ValueError(err)\n",
    "\n",
    "    # Make sure p_six is sane\n",
    "    if p_six < 0 or p_six > 1: \n",
    "        err = \"p_six must be between 0 and 1\\n\"\n",
    "        raise ValueError(err)\n",
    "        \n",
    "    # Figure out how many dice to flip at each step\n",
    "    num_to_flip = int(round(alpha*num_dice,0))\n",
    "    if num_to_flip == 0:\n",
    "        num_to_flip = 1\n",
    "        alpha = num_to_flip/num_dice\n",
    "\n",
    "    # Figure out the weight on our dice, assuming that \n",
    "    # p_1 == p_2 == p_3 == p_4 == p_5.  \n",
    "    # p_six + Sum(p_1 through p_5) = 1 \n",
    "    p_not_six = 1 - p_six\n",
    "    p_each_nonsix = p_not_six/5\n",
    "    dice_weights = [p_each_nonsix,p_each_nonsix,\n",
    "                    p_each_nonsix,p_each_nonsix,\n",
    "                    p_each_nonsix,p_six]   \n",
    "    \n",
    "    # Randomly select six numbers\n",
    "    if num_starting_six is None:\n",
    "        current_dice = np.random.choice([1,2,3,4,5,6],num_dice,p=dice_weights)\n",
    "        \n",
    "    # Create vector of dice\n",
    "    else:    \n",
    "    \n",
    "        # Create non-sixes\n",
    "        num_non_six = num_dice - num_starting_six\n",
    "        current_dice = np.random.choice([1,2,3,4,5],num_non_six)\n",
    "        \n",
    "        # Extend with sixes\n",
    "        current_dice = list(current_dice)\n",
    "        current_dice.extend([6 for _ in range(num_starting_six)])\n",
    "        current_dice = np.array(current_dice)\n",
    "        \n",
    "        # Shuffle dice without flipping\n",
    "        np.random.shuffle(current_dice)\n",
    "    \n",
    "    # Create vector of step number (0 to num_steps - 1)\n",
    "    steps = np.arange(num_steps)\n",
    "    \n",
    "    # Calculate rate law\n",
    "    rate_law = p_six*num_dice*(1-np.exp(-alpha*steps)) + np.sum(current_dice==6)*np.exp(-alpha*steps)\n",
    "\n",
    "    # Roll the dice num_steps times\n",
    "    dice_history = [np.sum(current_dice == 6)]\n",
    "    for i in range(1,num_steps):\n",
    "\n",
    "        # Figure out dice to flip\n",
    "        dice_to_flip = np.random.choice(np.arange(num_dice,dtype=int),num_to_flip,replace=False)\n",
    "        \n",
    "        # Roll num_to_flip dice\n",
    "        new_dice = np.random.choice([1,2,3,4,5,6],num_to_flip,p=dice_weights)\n",
    "        \n",
    "        # Assign those values to the current dice\n",
    "        current_dice[dice_to_flip] = new_dice\n",
    "        \n",
    "        # Record the history\n",
    "        dice_history.append(np.sum(current_dice==6))\n",
    "    \n",
    "    \n",
    "    if plot:\n",
    "        \n",
    "        # Create plots\n",
    "        fig, ax = plt.subplots(1,figsize=(6,6))\n",
    "\n",
    "        # Plot rate laws\n",
    "        ax.plot(steps,rate_law,color=\"blue\",linewidth=2,label=\"rate law\")\n",
    "\n",
    "        # Plot observed values\n",
    "        ax.plot(steps,dice_history,\"o\",color=\"blue\",label=\"observed\")\n",
    "\n",
    "        # Plot equilibrium line\n",
    "        ax.plot((0,num_steps),(p_six*num_dice,p_six*num_dice),'k--',label=\"equilibrium\")\n",
    "\n",
    "        # Format plot\n",
    "        ax.set_ylim(0,num_dice)\n",
    "        ax.set_xlabel(\"time steps\")\n",
    "        ax.set_ylabel(\"number of sixes\")\n",
    "        ax.set_title(\"number of sixes over time for {} dice\".format(num_dice))\n",
    "\n",
    "        # add legend\n",
    "        ax.legend()\n",
    "\n",
    "        plt.show()\n",
    "\n",
    "    \n",
    "    return steps, rate_law, dice_history\n",
    "\n",
    "\n",
    "def run_rolling_sim(num_dice,\n",
    "                    p_six=1/6,\n",
    "                    num_steps=None,\n",
    "                    alpha=0.01):\n",
    "    \"\"\"\n",
    "    Run dice simulations starting from equilibrium number of six, no six, and \n",
    "    all six. \n",
    "    \n",
    "    Parameters\n",
    "    ----------\n",
    "    num_dice : int\n",
    "        number of dice in the simulation (must be > 0)\n",
    "    p_six : float\n",
    "        probability of rolling a six (must be between 0 and 1)\n",
    "    alpha : float, defualt=0.01\n",
    "        pick up this fraction of the dice and roll them each step. must be \n",
    "        between 0 and 1. (If alpha*num_dice is less than one, set the number\n",
    "        to roll to one and recalcualte alpha as 1/num_dice). \n",
    "        \n",
    "    Returns\n",
    "    -------\n",
    "    fig : matplotlib.Figure\n",
    "        plot figure instance\n",
    "    ax : list\n",
    "        list of matplotlib ax instances\n",
    "    \"\"\"\n",
    "\n",
    "    # Sim with equilibrium dice\n",
    "    steps, random_rate_law, num_random_sixes = run_sim(num_dice=num_dice,\n",
    "                                                       p_six=p_six,\n",
    "                                                       num_starting_six=None,\n",
    "                                                       num_steps=num_steps,\n",
    "                                                       alpha=alpha)\n",
    "    \n",
    "    # Sim with all six dice\n",
    "    steps, start_at_six_rate_law, num_start_at_six_sixes = run_sim(num_dice=num_dice,\n",
    "                                                                   p_six=p_six,\n",
    "                                                                   num_starting_six=num_dice,\n",
    "                                                                   num_steps=num_steps,\n",
    "                                                                   alpha=alpha)\n",
    "    \n",
    "    # Sim with no six dice\n",
    "    steps, start_no_six_rate_law, num_start_no_six_sixes = run_sim(num_dice=num_dice,\n",
    "                                                                   p_six=p_six,\n",
    "                                                                   num_starting_six=0,\n",
    "                                                                   num_steps=num_steps,\n",
    "                                                                   alpha=alpha)\n",
    "        \n",
    "    # Create plots\n",
    "    fig, ax = plt.subplots(1,figsize=(6,6))\n",
    "\n",
    "    # Plot rate laws\n",
    "    ax.plot(steps,random_rate_law,color=\"blue\",linewidth=2)\n",
    "    ax.plot(steps,start_at_six_rate_law,color=\"orange\",linewidth=2)\n",
    "    ax.plot(steps,start_no_six_rate_law,color=\"green\",linewidth=2)\n",
    "    \n",
    "    # Plot observed values\n",
    "    ax.plot(steps,num_random_sixes,\"o\",label=\"start at equilibrium\",color=\"blue\")\n",
    "    ax.plot(steps,num_start_at_six_sixes,\"o\",label=\"start all sixes\",color=\"orange\")\n",
    "    ax.plot(steps,num_start_no_six_sixes,\"o\",label=\"start no sixes\",color=\"green\")\n",
    "        \n",
    "    # Plot equilibrium line\n",
    "    ax.plot((0,num_steps),(p_six*num_dice,p_six*num_dice),'k--',label=\"p_six\")\n",
    "    \n",
    "    # Format plot\n",
    "    ax.set_ylim(0,num_dice)\n",
    "    ax.set_xlabel(\"time steps\")\n",
    "    ax.set_ylabel(\"number of sixes\")\n",
    "    ax.set_title(\"number of sixes over time for {} dice\".format(num_dice))\n",
    "\n",
    "    # add legend\n",
    "    ax.legend()\n",
    "\n",
    "    return fig, ax\n",
    "\n",
    "\n",
    "def prob_plot(p,n):\n",
    "    \"\"\"\n",
    "    Generate a probability plot.\n",
    "    \n",
    "    Parameters\n",
    "    ----------\n",
    "    p : float\n",
    "        probability of rolling a six\n",
    "    n : int\n",
    "        number of dice\n",
    "    \n",
    "    Returns\n",
    "    -------\n",
    "    fig, ax : matplotlib objects\n",
    "    \"\"\"\n",
    "\n",
    "    fig, ax = plt.subplots(1,3,figsize=(15,5),sharex=\"col\")\n",
    "\n",
    "    k_range = np.arange(n+1,dtype=int)\n",
    "\n",
    "    out1 = []\n",
    "    out2 = []\n",
    "    out3 = []\n",
    "    for k in k_range:\n",
    "        out1.append(comb(n,k))\n",
    "        out2.append((p**k)*((1-p)**(n-k)))\n",
    "        out3.append(out1[-1]*out2[-1])\n",
    "\n",
    "    style = {\"linestyle\":\"-\",\"lw\":2}\n",
    "    if n <= 50:\n",
    "        style[\"marker\"] = \"o\"\n",
    "        style[\"ms\"] = 7    \n",
    "\n",
    "    ax[0].plot(k_range/n,out1,**style)\n",
    "    ax[1].plot(k_range/n,out2,**style)\n",
    "    ax[2].plot(k_range/n,out3,**style)\n",
    "\n",
    "    ax[0].set_title(\"n choose k\")\n",
    "    ax[1].set_title(\"log(likelihood)\")\n",
    "    ax[2].set_title(\"probability\")\n",
    "\n",
    "    ax[0].set_ylabel(\"num. cocmbinations\")\n",
    "    ax[1].set_ylabel(\"$p^{k}(1-p)^{n-k}$\")\n",
    "    ax[2].set_ylabel(\"probability\")\n",
    "\n",
    "    for i in range(3):\n",
    "        ax[i].set_xlabel('fraction six')\n",
    "    ax[1].set_yscale(\"log\")\n",
    "\n",
    "    fig.tight_layout()\n",
    "    \n",
    "    return fig, ax \n",
    "\n",
    "\n"
   ]
  },
  {
   "cell_type": "markdown",
   "metadata": {
    "id": "-udmHOEPBpqx"
   },
   "source": [
    "## <font size=\"+3\">Probabilities</font>\n",
    "\n",
    "<font size=\"+1\">Why do we see predictable numbers of dice showing specific faces?</font>"
   ]
  },
  {
   "cell_type": "code",
   "execution_count": null,
   "metadata": {
    "cellView": "form",
    "colab": {
     "base_uri": "https://localhost:8080/",
     "height": 361
    },
    "id": "zmbl6pDyUfHy",
    "outputId": "cda46d91-7e9f-4b71-e412-ba3df0644a05"
   },
   "outputs": [],
   "source": [
    "#@title Dice probability calculator\n",
    "\n",
    "\n",
    "#@markdown The probability of seeing $k$ <font size=\"+2\">⚅</font> out of $n$ total dice can be calculated using the following formula:\n",
    "\n",
    "#@markdown $$P(n,k) = {n \\choose k} p^{k}(1-p)^{n-k}$$\n",
    "\n",
    "#@markdown + $n$ is the total number of dice\n",
    "#@markdown + $k$ is the number of dice that are <font size=\"+2\">⚅</font>\n",
    "#@markdown + $p$ is the probability of rolling a <font size=\"+2\">⚅</font> (i.e., $1/6$ for a fair dice)\n",
    "\n",
    "#@markdown This cell generates graphs of the following terms for all values of $k$. \n",
    "\n",
    "#@markdown + $n \\choose k$ : \"n choose k\" --> entropy\n",
    "#@markdown + $log \\Big (p^{k}(1 - p)^{n-k} \\Big )$ : \"log(likelihood)\"  --> enthalpy\n",
    "#@markdown + $P(n,k)$ : \"probability\" --> free energy\n",
    "\n",
    "p = 1/6 #@param\n",
    "n = 600 #@param {type:\"integer\"}\n",
    "\n",
    "#@markdown <font color=\"orange\" size=\"+1\">Pay careful attention to the magnitude of the axes.</font>\n",
    "\n",
    "_ = prob_plot(p=p,n=n)"
   ]
  },
  {
   "cell_type": "markdown",
   "metadata": {
    "id": "d5FywEVANqQD"
   },
   "source": [
    "### <font color='#9D33FF' size=\"+2\">Explain</font>\n",
    "\n",
    "<font size=\"+1\">Generate graphs for $n = 1$, $p = 1/6$ (one fair dice). In words: how do $n \\choose k$ and $p^{k}(1 - p)^{n-k}$ determine the probabilities of seeing 0 <font size=\"+2\">⚅</font> versus 1 <font size=\"+2\">⚅</font></font>?\n"
   ]
  },
  {
   "cell_type": "markdown",
   "metadata": {
    "id": "ircKlQZoxMPs"
   },
   "source": []
  },
  {
   "cell_type": "markdown",
   "metadata": {
    "id": "GBCdbGMjxMol"
   },
   "source": [
    "---\n",
    "\n",
    "### <font color='#9D33FF' size=\"+2\">Effect of increasing $n$:</font>\n",
    "\n",
    "<font size=\"+1\">Generate graphs with $n = 1$, $n = 10$, and $n = 100$.</font>\n",
    "\n",
    "<font size=\"+1\">How does the \"n choose k\" graph change? Why, mathematically, is this the case?</font>"
   ]
  },
  {
   "cell_type": "markdown",
   "metadata": {
    "id": "ZvckBMo4xuhH"
   },
   "source": []
  },
  {
   "cell_type": "markdown",
   "metadata": {
    "id": "FBycPBzzxuT-"
   },
   "source": [
    "---\n",
    "<font size=\"+1\">How does the \"log(likelihood)\" graph change? Why, mathematically, is this the case?</font>"
   ]
  },
  {
   "cell_type": "markdown",
   "metadata": {
    "id": "r33KauoWx6IK"
   },
   "source": []
  },
  {
   "cell_type": "markdown",
   "metadata": {
    "id": "0L1d0oL_x6FI"
   },
   "source": [
    "---\n",
    "\n",
    "<font size=\"+1\">How does the \"probability\" graph change? Can you explain this in terms of the \"n choose k\" and \"log(likelihood)\" graphs?</font>"
   ]
  },
  {
   "cell_type": "markdown",
   "metadata": {
    "id": "UVUWk22A04a6"
   },
   "source": []
  },
  {
   "cell_type": "markdown",
   "metadata": {
    "id": "l6gfaZGS04ML"
   },
   "source": [
    "---\n",
    "\n",
    "### <font color='#9D33FF' size=\"+2\">Effect of $p$:</font>\n",
    "\n",
    "<font size=\"+1\">Compare the graph for $n = 100$, $p = 1/6$ to the graph for $n = 100$, $p = 1/2$ (weighted dice that show <font size=\"+2\">⚅</font> half the time). What happens to the log(likelihood) graph? Why does this happen with $p = 1/2$?</font>"
   ]
  },
  {
   "cell_type": "markdown",
   "metadata": {
    "id": "eSgplj5D04I3"
   },
   "source": []
  },
  {
   "cell_type": "markdown",
   "metadata": {
    "id": "EZaHPZF91bbq"
   },
   "source": [
    "---\n",
    "\n",
    "### <font color=\"#4287f5\" size=\"+3\">Key Point</font>\n",
    "\n",
    "<font size=\"+1\">The highest probability configuration of a system (the lowest free energy) involves a tradeoff between:\n",
    "\n",
    "1. <font size=\"+1\">Entropy: Configurations that are probable because they are *degenerate*. This is high $n \\choose k$. </font>\n",
    "2. <font size=\"+1\">Enthalpy: Configurations that consist of high probability events. This is high $p^{k}(1-p)^{k}$.</font>\n",
    "\n",
    "\n",
    "**This is really is our familiar friend $G = H - TS$**. We are doing the calculations under the special case where $RT = 1$. (These are *reduced temperature units* and are used a lot in theoretical calculations). \n",
    "\n",
    "$$P(n,k) = p^{k}(1-p)^{n-k} {n \\choose k}$$\n",
    "$$-ln \\Big (P(n,k) \\Big) = -ln \\Big ( p^{k}(1-p)^{n-k} {n \\choose k} \\Big )$$\n",
    "\n",
    "$$-ln \\Big(P(n,k) \\Big) = -ln \\Big ( p^{k}(1-p)^{n-k} \\Big ) - ln \\Big ( {n \\choose k} \\Big )$$\n",
    "\n",
    "$$G \\equiv -ln \\Big ( P(n,k) \\Big )$$\n",
    "$$H \\equiv -ln \\Big ( p^{k}(1-p)^{n-k} \\Big )$$\n",
    "$$S \\equiv ln \\Big ( {n \\choose k} \\Big )$$\n",
    "\n",
    "$$G = H - S$$\n",
    "\n",
    "\n",
    "\n",
    "</font>"
   ]
  },
  {
   "cell_type": "markdown",
   "metadata": {
    "id": "rQBr94kmNkkG"
   },
   "source": [
    "## <font size=\"+3\">The Dice Reaction</font>\n",
    "\n",
    "Even dice on a table will equilibrate if you start rolling them."
   ]
  },
  {
   "cell_type": "code",
   "execution_count": null,
   "metadata": {
    "cellView": "form",
    "colab": {
     "base_uri": "https://localhost:8080/",
     "height": 811
    },
    "id": "cNLV9Bh0HAbj",
    "outputId": "5a184b8e-9a7f-4d9f-93e4-1ebd52db3b37"
   },
   "outputs": [],
   "source": [
    "#@title Equilibrium simulation\n",
    "\n",
    "#@markdown In this calculation, we have 600 dice with $p = 1/6$. We then\n",
    "#@markdown pick up and roll a dice 10,000 times.\n",
    "\n",
    "NUM_DICE = 600\n",
    "P_SIX = 1/6\n",
    "\n",
    "num_starting_six = int(np.round(NUM_DICE*P_SIX,0))\n",
    "_, _, obs = run_sim(NUM_DICE,\n",
    "                    p_six=P_SIX,\n",
    "                    num_starting_six=num_starting_six,\n",
    "                    num_steps=10000,\n",
    "                    alpha=1/NUM_DICE,\n",
    "                    plot=True)\n",
    "\n",
    "num_bins = 100 #np.sqrt(NUM_DICE)\n",
    "if num_bins > NUM_DICE:\n",
    "    num_bins = NUM_DICE\n",
    "\n",
    "\n",
    "counts, bins = np.histogram(obs,\n",
    "                            bins=np.linspace(0,NUM_DICE+1,num_bins+1))\n",
    "\n",
    "\n",
    "counts = counts/np.sum(counts)\n",
    "bins_as_fraction = bins[0:-1] + (bins[1]-bins[0])/2\n",
    "bins_as_fraction = bins_as_fraction/np.max(bins_as_fraction)\n",
    "\n",
    "\n",
    "fig, ax  = plt.subplots(1,figsize=(6,6))\n",
    "\n",
    "_ = ax.plot(bins_as_fraction,counts,lw=2,color=\"blue\")\n",
    "ax.set_xlabel(\"fraction six\")\n",
    "ax.set_ylabel(\"frequency\")\n",
    "ax.set_title(\"observed fraction of six\")\n",
    "plt.show()\n"
   ]
  },
  {
   "cell_type": "markdown",
   "metadata": {
    "id": "8SUA8KdQFC9j"
   },
   "source": [
    "<h2><font color='#9D33FF'>Observe</font></h2>\n",
    "\n",
    "<font size=\"+1\">How does the number of sixes change over time? How does this empirical distribution compare to the one we calculated analytically above?</font>"
   ]
  },
  {
   "cell_type": "markdown",
   "metadata": {
    "id": "ZwJpKnw4Fhdb"
   },
   "source": []
  },
  {
   "cell_type": "markdown",
   "metadata": {
    "id": "AHIizYHcFhSY"
   },
   "source": [
    "---"
   ]
  },
  {
   "cell_type": "markdown",
   "metadata": {
    "id": "dfdQ1cgqNYFh"
   },
   "source": [
    "<h2><font color='#9D33FF'>Make a prediction</font></h2>\n",
    "\n",
    "<font size=\"+1\">What would the graph look like if we started with all 600 dice showing <font size=\"+2\">⚅</font>? Why will the graph have this shape?</font>\n"
   ]
  },
  {
   "cell_type": "markdown",
   "metadata": {
    "id": "qGX6UxRZYdhy"
   },
   "source": []
  },
  {
   "cell_type": "markdown",
   "metadata": {
    "id": "oa6OOYhWDlqc"
   },
   "source": [
    "----\n",
    "\n",
    "\n",
    "<font size=\"+1\">Run the \"Out of equilibrium simulation\" cell below. Did thje results match your prediction? If not, can you figure out why?</font>"
   ]
  },
  {
   "cell_type": "markdown",
   "metadata": {
    "id": "6SG4XP0xY21s"
   },
   "source": []
  },
  {
   "cell_type": "markdown",
   "metadata": {
    "id": "g0MWblorY4vr"
   },
   "source": [
    "---"
   ]
  },
  {
   "cell_type": "code",
   "execution_count": null,
   "metadata": {
    "cellView": "form",
    "colab": {
     "base_uri": "https://localhost:8080/",
     "height": 414
    },
    "id": "NxDlhZavDowN",
    "outputId": "d7c7bb27-7c35-4c65-d05a-bdbfa08ac6c9"
   },
   "outputs": [],
   "source": [
    "#@title Out of equilibrium simulation\n",
    "\n",
    "#@markdown In this calculation, we have NUM_DICE dice. The probability of rolling\n",
    "#@markdown <font size=\"+2\">⚅</font> is P_SIX. We nave NUM_STARTING_SIX <font size=\"+2\">⚅</font>\n",
    "#@markdown at the beginning of the simulation. The simulation runs until it \n",
    "#@markdown equilibrates. \n",
    "\n",
    "NUM_DICE = 600                  #@param {type:\"integer\"}\n",
    "P_SIX = 1/6     #@param \n",
    "NUM_STARTING_SIX = 600 #@param {type:\"integer\"}\n",
    "\n",
    "_ = run_sim(NUM_DICE,\n",
    "            p_six=P_SIX,\n",
    "            num_starting_six=NUM_STARTING_SIX,\n",
    "            alpha=1/NUM_DICE,\n",
    "            plot=True)"
   ]
  },
  {
   "cell_type": "markdown",
   "metadata": {
    "id": "S_4oivN8aMPb"
   },
   "source": [
    "<h2><font color='#9D33FF'>Make a prediction</font></h2>\n",
    "\n",
    "<font size=\"+1\">What would the graph look like if we started with no dice showing <font size=\"+2\">⚅</font>? Why will the graph have this shape?</font>\n"
   ]
  },
  {
   "cell_type": "markdown",
   "metadata": {
    "id": "fGLjg-K5aQmy"
   },
   "source": []
  },
  {
   "cell_type": "markdown",
   "metadata": {
    "id": "QkVyJIOTaR-c"
   },
   "source": [
    "---\n",
    "\n",
    "<h2><font color='#9D33FF'>Make a prediction</font></h2>\n",
    "\n",
    "<font size=\"+1\">What would the graph look like if we started with 300 of the 600  dice showing <font size=\"+2\">⚅</font>? Why will the graph have this shape?</font>\n"
   ]
  },
  {
   "cell_type": "markdown",
   "metadata": {
    "id": "f74UDt36aWBf"
   },
   "source": []
  },
  {
   "cell_type": "markdown",
   "metadata": {
    "id": "Q7VIqUCCaWrP"
   },
   "source": [
    "---\n",
    "\n",
    "<h2><font color='#9D33FF'>Standard state free energy?</font></h2>\n",
    "\n",
    "<font size=\"+1\">On the graph where we started with 300 of the 600 dice showing <font size=\"+2\">⚅</font>, where would you find the following terms?</font>\n",
    "\n",
    "$$G_{eq}$$\n",
    "$$G^{\\circ \\prime}$$\n",
    "$$\\Delta G^{\\circ \\prime}$$\n",
    "\n",
    "What does the value of $\\Delta G^{\\circ \\prime} measure?$?\n"
   ]
  },
  {
   "cell_type": "markdown",
   "metadata": {
    "id": "cqzhtz_YbUSD"
   },
   "source": []
  },
  {
   "cell_type": "markdown",
   "metadata": {
    "id": "8-DEEk1JbT9B"
   },
   "source": [
    "---\n",
    "\n",
    "### <font color=\"#4287f5\" size=\"+3\">Key Point</font>\n",
    "\n",
    "\n",
    "<font size=\"+1\">Reactions spontaneously move from low-probability, out-of-equilibrium configurations to the highest probability (equilibrium) configuration</font>\n",
    "\n",
    "<font size=\"+1\">$\\Delta G^{\\circ \\prime}$ is the energy to go from standard state (1 M everything) to equilibrium.</font>"
   ]
  },
  {
   "cell_type": "markdown",
   "metadata": {
    "id": "n3Y-rbluKjNp"
   },
   "source": [
    "## <font size=\"+3\">The Bet</font>"
   ]
  },
  {
   "cell_type": "markdown",
   "metadata": {
    "id": "5spvZOZxPdST"
   },
   "source": [
    "Uncle Phil says he'll give you $1,000 if you guess the next transition you will see: \n",
    "\n",
    "<center>\n",
    "<font size=\"+2\">{⚀,⚁,⚂,⚃,⚄}</font> $\\rightarrow$ <font size=\"+2\">⚅</font>\n",
    "\n",
    "OR\n",
    "\n",
    "<font size=\"+2\">⚅</font>$\\rightarrow$ <font size=\"+2\">{⚀,⚁,⚂,⚃,⚄}</font>\n",
    "\n",
    "\n",
    "(If you roll and do not see a change (e.g., <font size=\"+2\">⚅</font> $\\rightarrow$ <font size=\"+2\">⚅</font>), you re-roll.)\n",
    "\n",
    "</center>"
   ]
  },
  {
   "cell_type": "code",
   "execution_count": null,
   "metadata": {
    "cellView": "form",
    "colab": {
     "base_uri": "https://localhost:8080/"
    },
    "id": "KKEcic_iSukI",
    "outputId": "ab90b60f-bf12-4745-fe63-4fc4dc4c3789"
   },
   "outputs": [],
   "source": [
    "#@title Simulator\n",
    "\n",
    "#@markdown Simulates betting on a table with 600 dice. It will run 10 times. The\n",
    "#@markdown table resets each time it runs. \n",
    "\n",
    "NUM_STARTING_SIX = 100 #@param\n",
    "BETTING_STRATEGY = \"bet on 6 -> {1,2,3,4,5}\" #@param [\"bet on {1,2,3,4,5} -> 6\", \"bet on 6 -> {1,2,3,4,5}\"]\n",
    "\n",
    "for i in range(10):\n",
    "\n",
    "    _, _, obs = run_sim(600,num_starting_six=NUM_STARTING_SIX,alpha=1/600,num_steps=100)\n",
    "    obs = np.array(obs)\n",
    "    from_six = obs[:-1] > obs[1:]\n",
    "    to_six = obs[:-1] < obs[1:]\n",
    "    no_change = obs[:-1] == obs[1:]\n",
    "\n",
    "    result = None\n",
    "    for i in range(len(from_six)):\n",
    "        if from_six[i]:\n",
    "            result = \"from_six\"\n",
    "            break\n",
    "\n",
    "        if to_six[i]:\n",
    "            result = \"to_six\"\n",
    "            break\n",
    "\n",
    "\n",
    "    if result == \"from_six\":\n",
    "        if BETTING_STRATEGY == \"bet on 6 -> {1,2,3,4,5}\":\n",
    "            success = True\n",
    "        else:\n",
    "            success = False\n",
    "\n",
    "    elif result == \"to_six\":\n",
    "        if BETTING_STRATEGY == \"bet on {1,2,3,4,5} -> 6\":\n",
    "            success = True\n",
    "        else:\n",
    "            success = False\n",
    "\n",
    "    else:\n",
    "        raise RuntimeError(\"Should not get here\")\n",
    "\n",
    "    if success:\n",
    "        print(f\"You just {COL_BLUE}made{COL_END} $1000!\")\n",
    "    else:\n",
    "        print( f\"You just {COL_RED}lost{COL_END}.\")\n"
   ]
  },
  {
   "cell_type": "markdown",
   "metadata": {
    "id": "n7owl6QOdWA8"
   },
   "source": [
    "\n",
    "You have 600 dice on the table, 100 of which are <font size=\"+2\">⚅</font>. \n",
    "\n",
    "<h2><font color='#9D33FF'>Make a prediction</font></h2>\n",
    "<font size=\"+1\">What batting strategy should you choose? What are the odds you get $1,000?</font>"
   ]
  },
  {
   "cell_type": "markdown",
   "metadata": {
    "id": "TkhcJmbdK0SJ"
   },
   "source": []
  },
  {
   "cell_type": "markdown",
   "metadata": {
    "id": "tGxwkgcymrHf"
   },
   "source": [
    "---\n",
    "\n",
    "If you could choose a value for the number of <font size=\"+2\">⚅</font> to maximize you chances of getting the money, what would you choose? If you run the simulation, does the strategy seem to work? \n"
   ]
  },
  {
   "cell_type": "markdown",
   "metadata": {
    "id": "QJyGH50rdCfI"
   },
   "source": []
  },
  {
   "cell_type": "markdown",
   "metadata": {
    "id": "vTmREyh3ZYgy"
   },
   "source": [
    "----\n",
    "\n",
    "Uncle Phil changes the deal. He tells you he will give you \\$1 for every right guess and will *take away* \\$1 for every wrong guess. As before, you are guessing which event you see. \n",
    "\n",
    "<center>\n",
    "<font size=\"+2\">{⚀,⚁,⚂,⚃,⚄}</font> $\\rightarrow$ <font size=\"+2\">⚅</font>\n",
    "\n",
    "OR\n",
    "\n",
    "<font size=\"+2\">⚅</font>$\\rightarrow$ <font size=\"+2\">{⚀,⚁,⚂,⚃,⚄}</font>\n",
    "\n",
    "\n",
    "(If you roll and do not see a change (e.g., <font size=\"+2\">⚅</font> $\\rightarrow$ <font size=\"+2\">⚅</font>), you re-roll.)\n",
    "\n",
    "</center>\n"
   ]
  },
  {
   "cell_type": "code",
   "execution_count": null,
   "metadata": {
    "cellView": "form",
    "colab": {
     "base_uri": "https://localhost:8080/"
    },
    "id": "Uv28UyXGZ61f",
    "outputId": "552a5a39-1606-49e9-8bce-95c4df35f8e5"
   },
   "outputs": [],
   "source": [
    "#@title Simulator\n",
    "\n",
    "#@markdown Simulates betting on a table with 600 dice. \n",
    "\n",
    "NUM_STARTING_SIX = 600 #@param\n",
    "BETTING_STRATEGY = \"bet on 6 -> {1,2,3,4,5}\" #@param [\"bet on {1,2,3,4,5} -> 6\", \"bet on 6 -> {1,2,3,4,5}\", \"random bet each roll\"]\n",
    "\n",
    "\n",
    "\n",
    "_, _, obs = run_sim(600,num_starting_six=NUM_STARTING_SIX,alpha=1/600)\n",
    "obs = np.array(obs)\n",
    "from_six = obs[:-1] > obs[1:]\n",
    "to_six = obs[:-1] < obs[1:]\n",
    "no_change = obs[:-1] == obs[1:]\n",
    "\n",
    "if BETTING_STRATEGY == \"bet on {1,2,3,4,5} -> 6\":\n",
    "    cash = np.sum(to_six) - np.sum(from_six)\n",
    "elif BETTING_STRATEGY == \"bet on 6 -> {1,2,3,4,5}\":\n",
    "    cash = np.sum(from_six) - np.sum(to_six)\n",
    "else:\n",
    "    bets = np.random.choice([False,True],len(from_six))\n",
    "    mask = np.logical_not(no_change)\n",
    "\n",
    "    right = np.logical_and(bets[mask],to_six[mask])\n",
    "    wrong = np.logical_and(np.logical_not(bets[mask]),from_six[mask])\n",
    "    \n",
    "    cash = np.sum(right) - np.sum(wrong)\n",
    "\n",
    "\n",
    "if cash < 0:\n",
    "    print( f\"You just {COL_RED}lost{COL_END} ${-cash}!\")\n",
    "elif cash > 0:\n",
    "    print(f\"You just {COL_BLUE}made{COL_END} ${cash}!\")\n",
    "else:\n",
    "    print(f\"You broke even.\")"
   ]
  },
  {
   "cell_type": "markdown",
   "metadata": {
    "id": "CiqX8mwckQQW"
   },
   "source": [
    "<h2><font color='#9D33FF'>Make a prediction</font></h2>\n",
    "\n",
    "<font size=\"+1\">The table starts with 600 <font size=\"+2\">⚅</font> of out 600 dice. You will roll until the reaction has equlibrated. What should your betting strategy be? How much money do you expect to make or lose? Why?</font>"
   ]
  },
  {
   "cell_type": "markdown",
   "metadata": {
    "id": "Kf5ZObShdkt8"
   },
   "source": []
  },
  {
   "cell_type": "markdown",
   "metadata": {
    "id": "foCNtzWDdmkP"
   },
   "source": [
    "---\n",
    "\n",
    "<font size=\"+1\">How did you do when you tried? What did you change (if anything) and why?</font>"
   ]
  },
  {
   "cell_type": "markdown",
   "metadata": {
    "id": "ag106Y95jOxi"
   },
   "source": []
  },
  {
   "cell_type": "code",
   "execution_count": null,
   "metadata": {
    "cellView": "form",
    "colab": {
     "base_uri": "https://localhost:8080/",
     "height": 497
    },
    "id": "YDWHctYW-iuA",
    "outputId": "dc9e3df7-b914-4301-a950-8a5d28ca2a9f"
   },
   "outputs": [],
   "source": [
    "#@title dG versus cash made\n",
    "\n",
    "#@markdown This cell does the last betting run for different starting amounts of\n",
    "#@markdown <font size=\"+2\">⚅</font>: 0, 100, 200, 300, 400, 500, and 600. The \n",
    "#@markdown total number of dice is 600. It then correlates the cash made in the\n",
    "#@markdown betting with the $\\Delta G$ calculated by:\n",
    "\n",
    "#@markdown $$H \\equiv -ln \\Big ( p^{k}(1-p)^{n-k} \\Big )$$\n",
    "#@markdown $$S \\equiv ln \\Big ( {n \\choose k} \\Big )$$\n",
    "#@markdown $$G = H - S$$\n",
    "\n",
    "#@markdown $$\\Delta G = G_{eq} - G_{starting_six}$$\n",
    "\n",
    "S = np.log(comb(600,100))\n",
    "H = -100*np.log(1/6) + -500*np.log(5/6)\n",
    "Geq = H - S\n",
    "\n",
    "mean_cash = []\n",
    "std_cash = []\n",
    "dG = []\n",
    "\n",
    "print(\"num_six_at_start,mean_cash_made,dG\")\n",
    "for N in [0,100,200,300,400,500,600]:\n",
    "\n",
    "    cash_made = []\n",
    "    for i in range(10):\n",
    "\n",
    "        _, _, obs = run_sim(600,num_starting_six=N,alpha=1/600,num_steps=5000)\n",
    "        obs = np.array(obs)\n",
    "        from_six = obs[:-1] > obs[1:]\n",
    "        to_six = obs[:-1] < obs[1:]\n",
    "        no_change = obs[:-1] == obs[1:]\n",
    "\n",
    "        cash = np.sum(from_six) - np.sum(to_six)\n",
    "\n",
    "        cash_made.append(cash)\n",
    "\n",
    "    mean_cash.append(np.mean(cash_made))\n",
    "    std_cash.append(np.std(cash_made))\n",
    "\n",
    "\n",
    "    S = np.log(comb(600,N))\n",
    "    H = -N*np.log(1/6) + -(600-N)*np.log(5/6)\n",
    "    G = H - S\n",
    "    dG.append(Geq-G)\n",
    "\n",
    "    print(N,mean_cash[-1],dG[-1])\n",
    "\n",
    "fig, ax = plt.subplots(1,figsize=(6,5))\n",
    "\n",
    "ax.plot(mean_cash,dG,'o')\n",
    "ax.set_xlabel(\"cash made\")\n",
    "ax.set_ylabel(\"dG\")\n",
    "fig.tight_layout()"
   ]
  },
  {
   "cell_type": "markdown",
   "metadata": {
    "id": "VGY8aWF_jewc"
   },
   "source": [
    "---\n",
    "\n",
    "### <font color=\"#4287f5\" size=\"+3\">Key Point</font>\n",
    "\n",
    "The further away from equilibrium a system is, the better you will be at making money. Free energy measures your betting odds: the larger the magnitude of $\\Delta G$, the more confident you can be that the reaction will flow one way or the other. Cells keep $\\Delta G \\ne 0$ to allow ordered and directional behavior. \n"
   ]
  },
  {
   "cell_type": "code",
   "execution_count": null,
   "metadata": {},
   "outputs": [],
   "source": []
  }
 ],
 "metadata": {
  "colab": {
   "collapsed_sections": [
    "EZaHPZF91bbq"
   ],
   "provenance": [],
   "toc_visible": true
  },
  "kernelspec": {
   "display_name": "Python 3 (ipykernel)",
   "language": "python",
   "name": "python3"
  },
  "language_info": {
   "codemirror_mode": {
    "name": "ipython",
    "version": 3
   },
   "file_extension": ".py",
   "mimetype": "text/x-python",
   "name": "python",
   "nbconvert_exporter": "python",
   "pygments_lexer": "ipython3",
   "version": "3.9.12"
  }
 },
 "nbformat": 4,
 "nbformat_minor": 4
}
