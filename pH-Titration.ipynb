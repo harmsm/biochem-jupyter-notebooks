{
 "cells": [
  {
   "cell_type": "markdown",
   "metadata": {},
   "source": [
    "\n",
    " ## Amino acid titration explorer"
   ]
  },
  {
   "cell_type": "markdown",
   "metadata": {},
   "source": [
    "## Instructions\n",
    "* **<font color=\"red\">Go to \"Cell->Run All\" to start the program running.  After that point, you should be able to use the sliders and buttons to manipulate the output.</font>**  \n",
    "* If things go totally awry, you can go to \"Kernel->Restart\"  and then \"Cell->Run All\".  A more drastic solution would be to close and reload the page, which will reset the code to its initial state.  \n",
    "* If you're interested in programming, click the \"Toggle raw code\" button.  This will expose the underlying program, written in the Python 3 programming language.  You can edit the code to your heart's content: just go to \"Cell->Run All\" after you modify things so the changes will be incorporated.  Text in the code blocks preceded by `#` are comments to guide you through the excercise and/or explain the code"
   ]
  },
  {
   "cell_type": "code",
   "execution_count": 1,
   "metadata": {},
   "outputs": [],
   "source": [
    "# -----------------------------------------------------------------------------------\n",
    "# Javascript that gives us a cool hide-the-code button \n",
    "\n",
    "from IPython.display import HTML\n",
    "\n",
    "HTML('''\n",
    "\n",
    "<script>\n",
    "    code_show=true; \n",
    "    \n",
    "    function code_toggle() {\n",
    "     if (code_show){\n",
    "         $('div.input').hide();\n",
    "     } else {\n",
    "         $('div.input').show();\n",
    "     }\n",
    "     code_show = !code_show\n",
    "    } \n",
    "    \n",
    "    $( document ).ready(code_toggle);\n",
    "</script>\n",
    "\n",
    "<form action=\"javascript:code_toggle()\">\n",
    "    <input type=\"submit\" value=\"Toggle raw code\">\n",
    "</form>\n",
    "\n",
    "''')\n",
    "\n",
    "# ------------------------------------------------------------------------------------"
   ]
  },
  {
   "cell_type": "code",
   "execution_count": 2,
   "metadata": {
    "jupyter": {
     "source_hidden": true
    }
   },
   "outputs": [
    {
     "data": {
      "application/vnd.jupyter.widget-view+json": {
       "model_id": "3b04ee3277444b67b8390afee5e042a7",
       "version_major": 2,
       "version_minor": 0
      },
      "text/plain": [
       "interactive(children=(FloatText(value=4.5, description='pKa of sidechain'), IntSlider(value=0, description='ch…"
      ]
     },
     "metadata": {},
     "output_type": "display_data"
    }
   ],
   "source": [
    "#Import libraries that do things like plot data and handle arrays\n",
    "%matplotlib inline\n",
    "from matplotlib import pyplot as plt\n",
    "import numpy as np\n",
    "\n",
    "# libraries for making pretty sliders\n",
    "from ipywidgets import interact, interactive, fixed, interact_manual\n",
    "import ipywidgets as widgets\n",
    "from IPython.display import display\n",
    "\n",
    "def fractional_protonation(pKa,pH):\n",
    "    \"\"\"\n",
    "    Calculate the protonation state of a titratable group versus pH given its pKa.  \n",
    "    \"\"\"\n",
    "    \n",
    "    theta_protonated = 1/(1 + 10**(pH-pKa))\n",
    "    \n",
    "    return theta_protonated\n",
    "    \n",
    "\n",
    "def fractional_charge(pKa,charge_when_protonated,pH):\n",
    "    \"\"\"\n",
    "    Cacluate the fractional charge on a molecule given its pKa value, charge when ionized, and pH\n",
    "    \"\"\"\n",
    "    \n",
    "    theta_protonated = 1/(1 + 10**(pH-pKa))\n",
    "    \n",
    "    if charge_when_protonated == 0:\n",
    "        theta_charge = -1*(1-theta_protonated)\n",
    "    else:\n",
    "        theta_charge = theta_protonated\n",
    "        \n",
    "    return theta_charge\n",
    "\n",
    "def titrate_amino_acid(sidechain_pKa=4,charge_when_protonated=0,titratable_sidechain=True):\n",
    "    \"\"\"\n",
    "    Calculate the total charge on a free amino acid as a function of pH.\n",
    "    \"\"\"\n",
    "    \n",
    "    \n",
    "    # N- and C-terminal groups\n",
    "    pKas = [9.0,3.5]\n",
    "    charges = [1,0]\n",
    "    \n",
    "    # Are we adding a titratable sidec chain?\n",
    "    if titratable_sidechain == True:\n",
    "        pKas.append(sidechain_pKa)\n",
    "        charges.append(charge_when_protonated)\n",
    "    \n",
    "    # Create a vector of pH values and a vector of zeros to hold total charge state vs. pH\n",
    "    pH_list = np.arange(0,14,0.25)\n",
    "    total_charge = np.zeros(len(pH_list))\n",
    "    total_protonation = np.zeros(len(pH_list))\n",
    "    \n",
    "    # For every titratable group, calculate charge vs. pH and append to the total charge\n",
    "    for i in range(len(pKas)):    \n",
    "        total_charge = total_charge + fractional_charge(pKas[i],charges[i],pH_list)\n",
    "        total_protonation = total_protonation + fractional_protonation(pKas[i],pH_list)\n",
    "            \n",
    "    fig, ax = plt.subplots(1,2)\n",
    "    ax[0].plot(pH_list,total_protonation,color=\"black\")\n",
    "    ax[0].axhline(y=0,color=\"gray\",linestyle=\"dashed\")    \n",
    "    ax[0].set_xlabel(\"pH\")\n",
    "    ax[0].set_ylabel(\"total protonation\")\n",
    "    ax[0].set_title(\"protonation state\")\n",
    "    \n",
    "    ax[1].plot(pH_list,total_charge,color=\"green\")\n",
    "    ax[1].axhline(y=0,color=\"gray\",linestyle=\"dashed\")    \n",
    "    ax[1].set_xlabel(\"pH\")\n",
    "    ax[1].set_ylabel(\"total charge\")\n",
    "    ax[1].set_title(\"charge state\")\n",
    "     \n",
    "    \n",
    "    fig.set_figwidth(10)\n",
    "    fig.tight_layout()\n",
    "    plt.show()\n",
    "        \n",
    "        \n",
    "    \n",
    "titratable_sc_widget = widgets.Checkbox(description=\"amino acid sidechain titrable?\",value=True)\n",
    "pKa_widget = widgets.FloatText(description=\"pKa of sidechain\",value=4.5)\n",
    "charge_widget = widgets.IntSlider(description=\"charge of protonated sidechain\",min=0,max=1,step=1,value=0)\n",
    "\n",
    "container = widgets.interactive(titrate_amino_acid,\n",
    "                                titratable_sidechain=titratable_sc_widget,\n",
    "                                sidechain_pKa=pKa_widget,\n",
    "                                charge_when_protonated=charge_widget)\n",
    "\n",
    "display(container)\n"
   ]
  },
  {
   "cell_type": "markdown",
   "metadata": {},
   "source": [
    "# Appendix: the Henderson-Hasselbalch Equation and Fractional Charge\n",
    "\n",
    "\n",
    "## Derive HH:\n",
    "Start with the definition of an acid dissocation constant:\n",
    "\n",
    "$$\\frac{[H^{+}][A]}{[HA]}=K_{acid}$$\n",
    "\n",
    "Rearrange and take the $-log_{10}$ of both sides:\n",
    "\n",
    "$$[H^{+}]=\\frac{K_{acid}[HA]}{[A]}$$\n",
    "\n",
    "$$-log_{10}([H^{+}]) = -log_{10}\\Big(\\frac{K_{acid}[HA]}{[A]}\\Big)$$\n",
    "\n",
    "Apply the log rule that $log(XY) = log(X) + log(Y)$:\n",
    "\n",
    "$$-log_{10}([H^{+}]) = -log_{10}(K_{acid}) -log_{10}\\Big(\\frac{[HA]}{[A]}\\Big)$$\n",
    "\n",
    "Recalling that $pX \\equiv -log_{10}(X)$ we can write:\n",
    "\n",
    "$$pH = pK_{a} - log_{10} \\Big (\\frac{[HA]}{[A]} \\Big)$$\n",
    "\n",
    "Then apply the log rule that $ -log(X) = log(1/X)$ to get:\n",
    "\n",
    "$$pH = pK_{a} + log_{10} \\Big (\\frac{[A]}{[HA]} \\Big)$$\n",
    "\n",
    "This is the Henderson-Hasselbalch equation.  \n",
    "\n",
    "## Derive fractional protonation\n",
    "\n",
    "Now let's think about $\\theta$, the fraction of some molecule $A$ that is protonated as a function of $pH$.  This is simply the concentration of protonated molecules ($[HA]$) over all possible molecules:\n",
    "\n",
    "$$\\theta \\equiv \\frac{[HA]}{[HA] + [A]}$$\n",
    "\n",
    "We can rearrange Henderson-Hasselbalch to solve for $[A]$:\n",
    "\n",
    "$$pH - pK_{a} = log_{10} \\Big (\\frac{[A]}{[HA]} \\Big)$$\n",
    "\n",
    "$$10^{(pH-pK_{a})} = \\frac{[A]}{[HA]}$$\n",
    "\n",
    "$$[HA] 10^{(pH-pK_{a})} = [A]$$\n",
    "\n",
    "And then substitute into the equation for $\\theta$:\n",
    "\n",
    "$$\\theta = \\frac{[HA]}{[HA] + [HA] 10^{(pH-pK_{a})}}$$\n",
    "\n",
    "$$\\theta = \\frac{1}{1 + 10^{(pH-pK_{a})}}$$\n",
    "\n",
    "We now have an equation that relates the $pK_{a}$ and $pH$ to the saturation of a molecule.  \n",
    "\n",
    "## Relate fractional protonation to fractional charge\n",
    "\n",
    "To relate fractional protonation to the fractional charge, we need to know some chemistry. \n",
    "For example, a protonated carboxylic acid ($R-COOH$) is neutral, while a protonated amine ($NH^{+}_{4}$) is charged.  If you know the chemical structures of your amino acids, you should be able to reason about charge vs. pH given information about _protonation_ vs. pH.  The titration behaviors of the groups that titrate at reasonable pH values are shown below:\n",
    "\n",
    "**Charge on protonated state = 0** \n",
    "\n",
    "Aspartic acid/glutamic acid/C-terminus ($pK_{a} \\approx 2-4$): $R-COOH \\rightleftharpoons \\color{red}{R-COO^{-}} + \\color{blue}{H^{+}}$\n",
    "\n",
    "Tyrosine ($pK_{a} = 10.5 $): $R-OH \\rightleftharpoons \\color{red}{R-O^{-}} + \\color{blue}{H^{+}}$\n",
    "\n",
    "Cysteine ($pK_{a} = 8.4 $): $R-SH \\rightleftharpoons \\color{red}{R-S^{-}} + \\color{blue}{H^{+}}$\n",
    "\n",
    "\n",
    "\n",
    "**Charge on protonated state = 1**\n",
    "\n",
    "Lysine/N-terminus ($pK_{a} \\approx 10 $): $\\color{blue}{R-NH^{+}_{3}} \\rightleftharpoons R-NH_{2} + \\color{blue}{H^{+}}$  \n",
    "\n",
    "Histidine ($pK_{a} = 6.0 $): $\\color{blue}{R-C_{3}H_{4}N_{2}^{+}} \\rightleftharpoons R-C_{3}H_{3}N_{2} + \\color{blue}{H^{+}}$\n",
    "\n",
    "Arginine ($pK_{a} = 12.5 $): $\\color{blue}{R-C_{1}H_{5}N_{3}^{+}} \\rightleftharpoons R-C_{1}H_{4}N_{3} + \\color{blue}{H^{+}}$\n",
    "    "
   ]
  },
  {
   "cell_type": "code",
   "execution_count": null,
   "metadata": {
    "jupyter": {
     "source_hidden": true
    }
   },
   "outputs": [],
   "source": []
  },
  {
   "cell_type": "code",
   "execution_count": null,
   "metadata": {
    "jupyter": {
     "source_hidden": true
    }
   },
   "outputs": [],
   "source": []
  }
 ],
 "metadata": {
  "kernelspec": {
   "display_name": "Python 3",
   "language": "python",
   "name": "python3"
  },
  "language_info": {
   "codemirror_mode": {
    "name": "ipython",
    "version": 3
   },
   "file_extension": ".py",
   "mimetype": "text/x-python",
   "name": "python",
   "nbconvert_exporter": "python",
   "pygments_lexer": "ipython3",
   "version": "3.7.3"
  }
 },
 "nbformat": 4,
 "nbformat_minor": 4
}
