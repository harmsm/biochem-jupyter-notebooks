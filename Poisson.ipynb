{
 "cells": [
  {
   "cell_type": "markdown",
   "metadata": {},
   "source": [
    "## Simulate sampling from a Poisson Distribution"
   ]
  },
  {
   "cell_type": "markdown",
   "metadata": {},
   "source": [
    "## Instructions\n",
    "* **<font color=\"red\">Go to \"Cell->Run All\" to start the program running.  After that point, you should be able to use the sliders and buttons to manipulate the output.</font>**  \n",
    "* If things go totally awry, you can go to \"Kernel->Restart\"  and then \"Cell->Run All\".  A more drastic solution would be to close and reload the page, which will reset the code to its initial state.  \n",
    "* The underlying program is written in the Python 3 programming language.  You can edit the code to your heart's content: just go to \"Cell->Run All\" after you modify things so the changes will be incorporated.  Text in the code blocks preceded by `#` are comments to guide you through the excercise and/or explain the code"
   ]
  },
  {
   "cell_type": "code",
   "execution_count": null,
   "metadata": {
    "tags": []
   },
   "outputs": [],
   "source": [
    "\n",
    "#Import libraries that do things like plot data and handle arrays\n",
    "%matplotlib inline\n",
    "from matplotlib import pyplot as plt\n",
    "import numpy as np\n",
    "from scipy.stats import poisson\n",
    "\n",
    "# libraries for making pretty sliders\n",
    "from ipywidgets import interact, interactive, fixed, interact_manual\n",
    "import ipywidgets as widgets\n",
    "from IPython.display import display\n",
    "\n",
    "def calc_poisson(mu):\n",
    "    \"\"\"\n",
    "    Calculate a poisson distribution pmf given a value for mu, spitting a graph and a pretty\n",
    "    table.\n",
    "    \"\"\"\n",
    "\n",
    "    # some constants for making pretty graph/table\n",
    "    max_count = 200\n",
    "    p_cutoff = 0.0001\n",
    "    \n",
    "    # Do pmf calculation\n",
    "    x = np.arange(max_count)\n",
    "    p = poisson.pmf(np.arange(max_count),mu)\n",
    "    \n",
    "    # only grab data with reasonable probability\n",
    "    truth_table = p > p_cutoff\n",
    "    x = x[truth_table]\n",
    "    p = p[truth_table]\n",
    "    \n",
    "    # Make graph\n",
    "    plt.bar(x,p,width=0.6)\n",
    "    plt.xlabel(\"# molecules\")\n",
    "    plt.ylabel(\"probability\")\n",
    "    plt.title(\"Poisson probability mass function\")\n",
    "    plt.tight_layout()\n",
    "    plt.show()\n",
    "\n",
    "    # write data table\n",
    "    print(\"{:>10s}{:>10s}\".format(\"counts\",\"prob\"))\n",
    "    for i in range(len(x)):\n",
    "        print(\"{:10d}{:10.3f}\".format(x[i],p[i]))\n",
    "\n",
    "\n",
    "# graph/slider widget\n",
    "mu_widget = widgets.IntSlider(description=\"expected number of molecules\",min=1,max=100,step=1,value=10)\n",
    "container = widgets.interactive(calc_poisson,mu=mu_widget)\n",
    "display(container)\n"
   ]
  },
  {
   "cell_type": "code",
   "execution_count": null,
   "metadata": {
    "tags": []
   },
   "outputs": [],
   "source": []
  }
 ],
 "metadata": {
  "kernelspec": {
   "display_name": "Python 3 (ipykernel)",
   "language": "python",
   "name": "python3"
  },
  "language_info": {
   "codemirror_mode": {
    "name": "ipython",
    "version": 3
   },
   "file_extension": ".py",
   "mimetype": "text/x-python",
   "name": "python",
   "nbconvert_exporter": "python",
   "pygments_lexer": "ipython3",
   "version": "3.9.12"
  }
 },
 "nbformat": 4,
 "nbformat_minor": 4
}
