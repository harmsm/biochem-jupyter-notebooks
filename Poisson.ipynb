{
 "cells": [
  {
   "cell_type": "markdown",
   "metadata": {},
   "source": [
    "## Simulate sampling from a Poisson Distribution"
   ]
  },
  {
   "cell_type": "code",
   "execution_count": 2,
   "metadata": {
    "jupyter": {
     "source_hidden": true
    }
   },
   "outputs": [
    {
     "data": {
      "application/vnd.jupyter.widget-view+json": {
       "model_id": "f3930d018c8f4b818e2a7c184feca477",
       "version_major": 2,
       "version_minor": 0
      },
      "text/plain": [
       "interactive(children=(IntSlider(value=10, description='expected number of molecules', min=1), Output()), _dom_…"
      ]
     },
     "metadata": {},
     "output_type": "display_data"
    }
   ],
   "source": [
    "\n",
    "#Import libraries that do things like plot data and handle arrays\n",
    "%matplotlib inline\n",
    "from matplotlib import pyplot as plt\n",
    "import numpy as np\n",
    "from scipy.stats import poisson\n",
    "\n",
    "# libraries for making pretty sliders\n",
    "from ipywidgets import interact, interactive, fixed, interact_manual\n",
    "import ipywidgets as widgets\n",
    "from IPython.display import display\n",
    "\n",
    "def calc_poisson(mu):\n",
    "    \"\"\"\n",
    "    Calculate a poisson distribution pmf given a value for mu, spitting a graph and a pretty\n",
    "    table.\n",
    "    \"\"\"\n",
    "\n",
    "    # some constants for making pretty graph/table\n",
    "    max_count = 200\n",
    "    p_cutoff = 0.0001\n",
    "    \n",
    "    # Do pmf calculation\n",
    "    x = np.arange(max_count)\n",
    "    p = poisson.pmf(np.arange(max_count),mu)\n",
    "    \n",
    "    # only grab data with reasonable probability\n",
    "    truth_table = p > p_cutoff\n",
    "    x = x[truth_table]\n",
    "    p = p[truth_table]\n",
    "    \n",
    "    # Make graph\n",
    "    plt.bar(x,p,width=0.6)\n",
    "    plt.xlabel(\"# molecules\")\n",
    "    plt.ylabel(\"probability\")\n",
    "    plt.title(\"Poisson probability mass function\")\n",
    "    plt.tight_layout()\n",
    "    plt.show()\n",
    "\n",
    "    # write data table\n",
    "    print(\"{:>10s}{:>10s}\".format(\"counts\",\"prob\"))\n",
    "    for i in range(len(x)):\n",
    "        print(\"{:10d}{:10.3f}\".format(x[i],p[i]))\n",
    "\n",
    "\n",
    "# graph/slider widget\n",
    "mu_widget = widgets.IntSlider(description=\"expected number of molecules\",min=1,max=100,step=1,value=10)\n",
    "container = widgets.interactive(calc_poisson,mu=mu_widget)\n",
    "display(container)\n"
   ]
  },
  {
   "cell_type": "code",
   "execution_count": null,
   "metadata": {
    "jupyter": {
     "source_hidden": true
    }
   },
   "outputs": [],
   "source": []
  },
  {
   "cell_type": "code",
   "execution_count": null,
   "metadata": {
    "jupyter": {
     "source_hidden": true
    }
   },
   "outputs": [],
   "source": []
  },
  {
   "cell_type": "code",
   "execution_count": null,
   "metadata": {
    "jupyter": {
     "source_hidden": true
    }
   },
   "outputs": [],
   "source": []
  }
 ],
 "metadata": {
  "kernelspec": {
   "display_name": "Python 3",
   "language": "python",
   "name": "python3"
  },
  "language_info": {
   "codemirror_mode": {
    "name": "ipython",
    "version": 3
   },
   "file_extension": ".py",
   "mimetype": "text/x-python",
   "name": "python",
   "nbconvert_exporter": "python",
   "pygments_lexer": "ipython3",
   "version": "3.7.3"
  }
 },
 "nbformat": 4,
 "nbformat_minor": 4
}
