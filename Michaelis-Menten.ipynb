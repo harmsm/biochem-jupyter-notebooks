{
 "cells": [
  {
   "cell_type": "markdown",
   "metadata": {},
   "source": [
    "## Michaelis-Menten Simulator\n",
    "\n",
    "This program simulates a Michaels-Menten enzyme.  The left panel shows product formation over time for several values of initial substrate concentration $[S]_{0}$, denoted by different colors.  The solid lines show the product concentration, the dashed lines show the initial value of $d[P]/dt$ for that $[S]_{0}$. \n",
    "\n",
    "$d[P]/dt$ depends on both the velocity of the reaction $V_{0}$ and the starting concentration of substrate $[S]_{0}$:\n",
    "\n",
    "$$\\frac{d[P]}{dt} = V_{0} \\cdot [S]_{0}$$\n",
    "\n",
    "The right panel shows a Michaelis-Menten plot of $V_{0}$ versus $[S]_{0}$.  By fitting the Michaelis-Menten model to these data, we can determine $k_{cat}$ and $K_{M}$:\n",
    "\n",
    "$$V_{0} = k_{cat} \\cdot [E]_{T} \\cdot \\Big ( \\frac{[S]_{0}}{[S]_{0} + K_{M}} \\Big ) $$"
   ]
  },
  {
   "cell_type": "markdown",
   "metadata": {},
   "source": [
    "## Instructions\n",
    "* **<font color=\"red\">Go to \"Cell->Run All\" to start the program running.  After that point, you should be able to use the sliders and buttons to manipulate the output.</font>**  \n",
    "* If things go totally awry, you can go to \"Kernel->Restart\"  and then \"Cell->Run All\".  A more drastic solution would be to close and reload the page, which will reset the code to its initial state.  \n",
    "* If you're interested in programming, click the \"Toggle raw code\" button.  This will expose the underlying program, written in the Python 3 programming language.  You can edit the code to your heart's content: just go to \"Cell->Run All\" after you modify things so the changes will be incorporated.  Text in the code blocks preceded by `#` are comments to guide you through the excercise and/or explain the code"
   ]
  },
  {
   "cell_type": "code",
   "execution_count": 1,
   "metadata": {},
   "outputs": [
    {
     "data": {
      "text/html": [
       "\n",
       "\n",
       "<script>\n",
       "    code_show=true; \n",
       "    \n",
       "    function code_toggle() {\n",
       "     if (code_show){\n",
       "         $('div.input').hide();\n",
       "     } else {\n",
       "         $('div.input').show();\n",
       "     }\n",
       "     code_show = !code_show\n",
       "    } \n",
       "    \n",
       "    $( document ).ready(code_toggle);\n",
       "</script>\n",
       "\n",
       "<form action=\"javascript:code_toggle()\">\n",
       "    <input type=\"submit\" value=\"Toggle raw code\">\n",
       "</form>\n",
       "\n"
      ],
      "text/plain": [
       "<IPython.core.display.HTML object>"
      ]
     },
     "execution_count": 1,
     "metadata": {},
     "output_type": "execute_result"
    }
   ],
   "source": [
    "# -----------------------------------------------------------------------------------\n",
    "# Javascript that gives us a cool hide-the-code button \n",
    "\n",
    "from IPython.display import HTML\n",
    "\n",
    "HTML('''\n",
    "\n",
    "<script>\n",
    "    code_show=true; \n",
    "    \n",
    "    function code_toggle() {\n",
    "     if (code_show){\n",
    "         $('div.input').hide();\n",
    "     } else {\n",
    "         $('div.input').show();\n",
    "     }\n",
    "     code_show = !code_show\n",
    "    } \n",
    "    \n",
    "    $( document ).ready(code_toggle);\n",
    "</script>\n",
    "\n",
    "<form action=\"javascript:code_toggle()\">\n",
    "    <input type=\"submit\" value=\"Toggle raw code\">\n",
    "</form>\n",
    "\n",
    "''')\n",
    "\n",
    "# ------------------------------------------------------------------------------------"
   ]
  },
  {
   "cell_type": "code",
   "execution_count": 2,
   "metadata": {
    "jupyter": {
     "source_hidden": true
    }
   },
   "outputs": [
    {
     "data": {
      "application/vnd.jupyter.widget-view+json": {
       "model_id": "caf12ea9fbeb4f0c8a7dcec8598e0a42",
       "version_major": 2,
       "version_minor": 0
      },
      "text/plain": [
       "interactive(children=(FloatSlider(value=300.0, description='kcat (1/s)', max=3000.0, min=100.0, step=100.0), F…"
      ]
     },
     "metadata": {},
     "output_type": "display_data"
    }
   ],
   "source": [
    "#Import libraries that do things like plot data and handle arrays\n",
    "%matplotlib inline\n",
    "from matplotlib import pyplot as plt\n",
    "from matplotlib import colors\n",
    "import numpy as np\n",
    "\n",
    "# libraries for making pretty sliders\n",
    "from ipywidgets import interact, interactive, fixed, interact_manual\n",
    "import ipywidgets as widgets\n",
    "from IPython.display import display\n",
    "\n",
    "\n",
    "def michaelis_menten(initial_substrate,kcat,Km,Etot):\n",
    "    \"\"\"\n",
    "    The Michaelis-Menten equation.\n",
    "    \"\"\"\n",
    "    \n",
    "    \n",
    "    initial_velocity = (kcat*Etot*initial_substrate)/(Km+initial_substrate)\n",
    "    \n",
    "    return initial_velocity\n",
    "\n",
    "def plot_michaelis_menten(kcat,Km,Etot):\n",
    "    \"\"\"\n",
    "    Create a pretty plot of a Michaelis-Menten curve given kcat, Km, and Etot.  This\n",
    "    assumes substrate concentrations between 0 and 1 mM.\n",
    "    \"\"\"\n",
    "    \n",
    "    Etot = Etot*1e-3\n",
    "    \n",
    "    # colors for each experiment\n",
    "    color_array = [\"red\",\"orange\",\"green\",\"blue\",\"purple\",\"pink\"]\n",
    "    \n",
    "    # substrate concentrations (mM)\n",
    "    substrate_concentrations = np.array([0,0.025,0.15,0.35,0.6,0.9],dtype=float)\n",
    "    \n",
    "    # array of times, from 0 to 100 s\n",
    "    t = np.array(range(0,100,1),dtype=float)\n",
    "    \n",
    "    # Create main plot\n",
    "    fig, ax = plt.subplots(1,2)\n",
    "    \n",
    "    # -----------------------------\n",
    "    # Raw kinetics plots\n",
    "    # -----------------------------\n",
    "    \n",
    "    two_point = np.array([0,max(t)])\n",
    "    for i, s in enumerate(substrate_concentrations):\n",
    "        v = michaelis_menten(s,kcat,Km,Etot)\n",
    "        ax[0].plot(t,s*(1-np.exp(-v*t)),color=color_array[i])\n",
    "        ax[0].plot(two_point,two_point*v*s,\"--\",color=color_array[i])\n",
    "    \n",
    "    # Set axes and title\n",
    "    ax[0].set_ylim([-0.1,1.1*max(substrate_concentrations)])\n",
    "    ax[0].set_title(\"individual kinetics curves\")\n",
    "    ax[0].set_xlabel(\"time (s)\")\n",
    "    ax[0].set_ylabel(\"[product] (mM)\")\n",
    "    \n",
    "    # -----------------------------\n",
    "    # Michaelis Menten Plot\n",
    "    # -----------------------------\n",
    "    \n",
    "    # Create smooth curve from 0 to 1 mM\n",
    "    smooth_x = np.array(range(0,1000,5),dtype=float)*0.001\n",
    "    smooth_y = michaelis_menten(smooth_x,kcat,Km,Etot)\n",
    "    ax[1].plot(smooth_x,smooth_y,color=\"black\")\n",
    "   \n",
    "    # Create individual points\n",
    "    for i, s in enumerate(substrate_concentrations):\n",
    "        ax[1].plot(s,michaelis_menten(s,kcat,Km,Etot),'ro',color=color_array[i])\n",
    "        \n",
    "    # Draw various indicator lines\n",
    "    ax[1].axhline(y=kcat*Etot,color=\"red\",linestyle=\"dashed\")\n",
    "    ax[1].axhline(y=kcat*Etot/2,color=\"black\",linestyle=\"dashed\")\n",
    "    ax[1].axvline(x=Km,color=\"blue\",linestyle=\"dashed\")\n",
    "    \n",
    "    # Set y plot dimensions\n",
    "    if kcat*Etot > 0:\n",
    "        ax[1].set_ylim([0,kcat*Etot*1.1])\n",
    "    else:\n",
    "        ax[1].set_ylim([0,1])\n",
    "    \n",
    "    # axis labels\n",
    "    ax[1].set_title(\"Michaelis-Menten plot (V0 vs. [S]0)\")\n",
    "    ax[1].set_xlabel(\"initial substrate concentration (mM)\")\n",
    "    ax[1].set_ylabel(\"initial recaction velocity (mM/s)\")\n",
    "\n",
    "    fig.set_figwidth(10)\n",
    "    fig.tight_layout()\n",
    "    plt.show()\n",
    "    \n",
    "    \n",
    "# graph for running display\n",
    "kcat_slider = widgets.FloatSlider(min=100,max=3000,step=100,value=300,description=\"kcat (1/s)\")\n",
    "Etot_slider = widgets.FloatSlider(min=0.1,max=5,by=0.5,value=0.1,description=\"Etot (uM)\")\n",
    "Km_slider = widgets.FloatSlider(min=0.01,max=1,by=0.05,value=0.05,description=\"Km (mM)\")\n",
    "\n",
    "w = widgets.interactive(plot_michaelis_menten,\n",
    "                        kcat=kcat_slider,\n",
    "                        Etot=Etot_slider,\n",
    "                        Km=Km_slider)\n",
    "                        \n",
    "display(w)\n"
   ]
  },
  {
   "cell_type": "markdown",
   "metadata": {},
   "source": [
    "$S_{0}$ (mM) | color\n",
    "-------------|-------\n",
    "<font color=\"red\">0.00</font> | <font color=\"red\">red</font>\n",
    "<font color=\"orange\">0.03</font> | <font color=\"orange\">orange</font>\n",
    "<font color=\"green\">0.15</font> | <font color=\"green\">green</font>\n",
    "<font color=\"blue\">0.35</font> | <font color=\"blue\">blue</font>\n",
    "<font color=\"purple\">0.60</font> | <font color=\"purple\">purple</font>\n",
    "<font color=\"black\">0.90</font> | <font color=\"pink\">pink</font>"
   ]
  }
 ],
 "metadata": {
  "kernelspec": {
   "display_name": "Python 3",
   "language": "python",
   "name": "python3"
  },
  "language_info": {
   "codemirror_mode": {
    "name": "ipython",
    "version": 3
   },
   "file_extension": ".py",
   "mimetype": "text/x-python",
   "name": "python",
   "nbconvert_exporter": "python",
   "pygments_lexer": "ipython3",
   "version": "3.7.3"
  },
  "widgets": {
   "state": {
    "23235226feb04a9f93f49c0c0e03e83e": {
     "views": [
      {
       "cell_index": 3
      }
     ]
    }
   },
   "version": "1.2.0"
  }
 },
 "nbformat": 4,
 "nbformat_minor": 4
}
